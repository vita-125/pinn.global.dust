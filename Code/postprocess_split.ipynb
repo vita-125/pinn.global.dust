{
 "cells": [
  {
   "metadata": {
    "ExecuteTime": {
     "end_time": "2025-07-08T13:51:16.254224Z",
     "start_time": "2025-07-08T13:51:08.584615Z"
    }
   },
   "cell_type": "code",
   "source": [
    "import numpy as np\n",
    "import pandas as pd\n",
    "import geopandas as gpd\n",
    "from scipy.interpolate import griddata\n",
    "from bs4 import BeautifulSoup\n",
    "from sklearn.preprocessing import StandardScaler\n",
    "import matplotlib.pyplot as plt\n",
    "from matplotlib import cm\n",
    "from scipy.stats import norm, lognorm\n",
    "import xarray as xr\n",
    "import requests\n",
    "\n",
    "\n",
    "FIGURE_PATH = \"C:/Users/vitas/Desktop/LE PINN/pinn.global.dust/pinn.global.dust/Code/figures/\"\n",
    "DATA_PATH = \"C:/Users/vitas/Desktop/LE PINN/pinn.global.dust/pinn.global.dust/Data/\"\n",
    "DATA_LOAD_PATH = DATA_PATH + \"original_data/\"\n",
    "INPUT_MODEL_PATH = DATA_PATH + \"processed_data/\"\n",
    "MODEL_SAVE_PATH = DATA_PATH + \"trained_models/\"\n",
    "RESULTS_PATH = DATA_PATH + \"model_results/\"\n",
    "path_to_shapefile = \"C:/Users/vitas/Desktop/LE PINN/pinn.global.dust/pinn.global.dust/ne_110m_admin_0_countries.shp\"\n",
    "world = gpd.read_file(path_to_shapefile)\n",
    "\n",
    "df_pinn = pd.read_csv(RESULTS_PATH + \"df_pinn_simulated_Holocene.csv\")\n",
    "df_simulated= pd.read_csv(INPUT_MODEL_PATH + \"df_simulation_Holocene.csv\")\n",
    "#df_kriging= pd.read_csv(INPUT_MODEL_PATH + \"df_kriging_Holocene.csv\")\n",
    "\n",
    "\n"
   ],
   "id": "dfa56dc387921627",
   "outputs": [],
   "execution_count": 4
  },
  {
   "metadata": {
    "ExecuteTime": {
     "end_time": "2025-07-08T13:51:19.881580Z",
     "start_time": "2025-07-08T13:51:16.283472Z"
    }
   },
   "cell_type": "code",
   "source": [
    "class Preprocess:\n",
    "    def __init__(self, df, time_label=None):\n",
    "        '''\n",
    "        Create a preprocess class for the given dataframe.\n",
    "        The time label correspond to the climate period\n",
    "        with the label 1 corresponding to the Holocene and\n",
    "        the label 2 to the Last Glacial Maximum.\n",
    "\n",
    "        '''\n",
    "        self.df = df.copy()\n",
    "        self.time = time_label\n",
    "\n",
    "    def preprocess_kriging(self):\n",
    "        '''Clean up the dataset of kriging interpolation.'''\n",
    "        # Select the correct period\n",
    "        self.df.reset_index(inplace=True)\n",
    "        self.df = self.df.groupby(['period', 'lat', 'lon']).mean()\n",
    "        self.df.reset_index(inplace=True)\n",
    "        self.df = self.df[self.df['period'] == self.time]\n",
    "        # rename data headers\n",
    "        self.df.rename(columns={\"Flux\": \"dep\"}, inplace=True)\n",
    "        # Convert data from kg/m^2/s to g/m^2/a\n",
    "        self.df[\"dep\"] = self.df[\"dep\"].values * 1000 * 365 * 24 * 60 * 60\n",
    "        # Change longitude range to (-180, 180)\n",
    "        self.df.loc[self.df['lon'] > 180, 'lon'] = self.df['lon'] - 360\n",
    "\n",
    "    def normalize_data(self):\n",
    "        '''Normalize data based on z-score.'''\n",
    "        self.df['log_dep'] = np.log10(self.df['dep'])\n",
    "        self.df['log_dep_norm'] = StandardScaler().fit_transform(np.array(self.df['log_dep']).reshape(-1, 1))\n",
    "\n",
    "\n",
    "\n",
    "with open(\"functions_plot.py\", 'r') as file:\n",
    "    content = file.read()\n",
    "\n",
    "# Execute the content of the .py file\n",
    "exec(content)\n",
    "## Preprocess the datasets\n",
    "\n",
    "url_search = \"https://doi.pangaea.de/10.1594/PANGAEA.847983\"\n",
    "\n",
    "# get the html code\n",
    "response = requests.get(url_search)\n",
    "soup = BeautifulSoup(response.text)\n",
    "\n",
    "# Find the anchor tag with the download link\n",
    "download_link = soup.find('a', id='static-download-link')\n",
    "\n",
    "# Extract the URL from the href attribute\n",
    "url = download_link['href']\n",
    "\n",
    "# Send a GET request to the URL\n",
    "response = requests.get(url)\n",
    "\n",
    "df_kriging_raw = xr.open_dataset(response.content).to_dataframe()\n",
    "preprocessor_kriging_Holocene = Preprocess(df_kriging_raw, 1)\n",
    "preprocessor_kriging_Holocene.preprocess_kriging()\n",
    "preprocessor_kriging_Holocene.normalize_data()\n",
    "df_kriging_Holocene = preprocessor_kriging_Holocene.df\n",
    "\n",
    "\n",
    "print(\"Shape Holocene:\", df_kriging_Holocene.shape)\n",
    "print(\"Missing values Holocene:\\n\", df_kriging_Holocene[['lat', 'lon', 'log_dep']].isna().sum())\n",
    "print(\"Preview Holocene:\\n\", df_kriging_Holocene[['lat', 'lon', 'log_dep']].dropna().head())\n",
    "## Visualise the datasets\n",
    "\n",
    "\n",
    "## Export the processed data\n",
    "with open(INPUT_MODEL_PATH + 'df_kriging_Holocene.csv', 'w') as f:\n",
    "    df_kriging_Holocene.to_csv(f, index=False)\n",
    "\n"
   ],
   "id": "5745a75fc2c36b74",
   "outputs": [
    {
     "name": "stdout",
     "output_type": "stream",
     "text": [
      "Shape Holocene: (8192, 7)\n",
      "Missing values Holocene:\n",
      " lat        0\n",
      "lon        0\n",
      "log_dep    0\n",
      "dtype: int64\n",
      "Preview Holocene:\n",
      "        lat      lon   log_dep\n",
      "0 -87.8638   0.0000 -3.220816\n",
      "1 -87.8638   2.8125 -3.228133\n",
      "2 -87.8638   5.6250 -3.228456\n",
      "3 -87.8638   8.4375 -3.242660\n",
      "4 -87.8638  11.2500 -3.244719\n"
     ]
    }
   ],
   "execution_count": 5
  },
  {
   "metadata": {
    "ExecuteTime": {
     "end_time": "2025-07-08T13:51:20.026661Z",
     "start_time": "2025-07-08T13:51:19.893817Z"
    }
   },
   "cell_type": "code",
   "source": [
    "# Coordinate e valori simulati\n",
    "coords_sim = df_simulated[['lon', 'lat']].values\n",
    "values_sim = df_simulated['log_dep_norm'].values\n",
    "\n",
    "# Coordinate e valori pinn\n",
    "coords_pinn = df_pinn[['lon', 'lat']].values\n",
    "values_pinn = df_pinn['PINN_log_dep'].values\n",
    "\n",
    "# Coordinate e valori kriging\n",
    "coords_kriging = df_kriging_Holocene[['lon', 'lat']].values\n",
    "values_kriging = df_kriging_Holocene['log_dep_norm'].values\n",
    "\n",
    "# Interpola i valori PINN nelle coordinate dei dati simulati\n",
    "values_pinn_interp = griddata(coords_pinn, values_pinn, coords_sim, method='nearest')\n",
    "\n",
    "# Interpola i valori Kriging nelle coordinate dei dati simulati\n",
    "values_kriging_interp = griddata(coords_kriging, values_kriging, coords_sim, method='nearest')"
   ],
   "id": "d7a6e054277814b2",
   "outputs": [],
   "execution_count": 6
  },
  {
   "metadata": {
    "ExecuteTime": {
     "end_time": "2025-07-08T13:51:20.062869Z",
     "start_time": "2025-07-08T13:51:20.040810Z"
    }
   },
   "cell_type": "code",
   "source": [
    "from sklearn.metrics import mean_squared_error, mean_absolute_error\n",
    "\n",
    "# Errore PINN vs dati simulati\n",
    "mse_pinn = mean_squared_error(values_sim, values_pinn_interp)\n",
    "rmse_pinn = np.sqrt(mse_pinn)\n",
    "mae_pinn = mean_absolute_error(values_sim, values_pinn_interp)\n",
    "\n",
    "# Errore Kriging vs dati simulati\n",
    "mse_kriging = mean_squared_error(values_sim, values_kriging_interp)\n",
    "rmse_kriging = np.sqrt(mse_kriging)\n",
    "mae_kriging = mean_absolute_error(values_sim, values_kriging_interp)\n",
    "\n",
    "print(\"Errore PINN:\")\n",
    "print(f\"MSE: {mse_pinn}, RMSE: {rmse_pinn}, MAE: {mae_pinn}\")\n",
    "\n",
    "print(\"Errore Kriging:\")\n",
    "print(f\"MSE: {mse_kriging}, RMSE: {rmse_kriging}, MAE: {mae_kriging}\")\n"
   ],
   "id": "19c9976f05faabc3",
   "outputs": [
    {
     "name": "stdout",
     "output_type": "stream",
     "text": [
      "Errore PINN:\n",
      "MSE: 3.2906948993119864, RMSE: 1.8140272598039937, MAE: 1.5472675438541847\n",
      "Errore Kriging:\n",
      "MSE: 0.4140805453705464, RMSE: 0.6434909054295533, MAE: 0.5174693481601811\n"
     ]
    }
   ],
   "execution_count": 7
  }
 ],
 "metadata": {
  "kernelspec": {
   "display_name": "Python 3",
   "language": "python",
   "name": "python3"
  },
  "language_info": {
   "codemirror_mode": {
    "name": "ipython",
    "version": 2
   },
   "file_extension": ".py",
   "mimetype": "text/x-python",
   "name": "python",
   "nbconvert_exporter": "python",
   "pygments_lexer": "ipython2",
   "version": "2.7.6"
  }
 },
 "nbformat": 4,
 "nbformat_minor": 5
}
